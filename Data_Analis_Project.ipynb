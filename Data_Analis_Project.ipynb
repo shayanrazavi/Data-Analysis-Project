{
  "nbformat": 4,
  "nbformat_minor": 0,
  "metadata": {
    "colab": {
      "name": "Data Analis Project.ipynb",
      "provenance": [],
      "collapsed_sections": [],
      "toc_visible": true,
      "authorship_tag": "ABX9TyN2nMX/8VDioS4pNo9TMiMR",
      "include_colab_link": true
    },
    "kernelspec": {
      "name": "python3",
      "display_name": "Python 3"
    },
    "language_info": {
      "name": "python"
    }
  },
  "cells": [
    {
      "cell_type": "markdown",
      "metadata": {
        "id": "view-in-github",
        "colab_type": "text"
      },
      "source": [
        "<a href=\"https://colab.research.google.com/github/shayanrazavi/Data-Analysis-Project/blob/main/Data_Analis_Project.ipynb\" target=\"_parent\"><img src=\"https://colab.research.google.com/assets/colab-badge.svg\" alt=\"Open In Colab\"/></a>"
      ]
    },
    {
      "cell_type": "markdown",
      "metadata": {
        "id": "URVAdYdeyHwc"
      },
      "source": [
        "# Question 1:"
      ]
    },
    {
      "cell_type": "code",
      "metadata": {
        "colab": {
          "base_uri": "https://localhost:8080/",
          "height": 573
        },
        "id": "YpfZAuOduBor",
        "outputId": "92132f63-f412-403b-8823-52ae0bd99be7"
      },
      "source": [
        "import pandas as pd\n",
        "import matplotlib.pyplot as plt\n",
        "\n",
        "df = pd.read_csv('new_heart_disease.csv')\n",
        "\n",
        "fbs1_df = df.loc[df.fbs == 1]\n",
        "fbs1_df.describe()\n",
        "#as in natige migirim:  miyangin cholesterol ba fbs 1 = 247.911111\n",
        "mean_fbs1 = 247.911111\n",
        "\n",
        "fbs0_df = df.loc[df.fbs == 0]\n",
        "fbs0_df.describe()\n",
        "#as in natige migirim:  miyangin cholesterol ba fbs 1 = 130.325581\n",
        "mean_fbs0 = 130.325581\n",
        "\n",
        "#nemodar noghteii:\n",
        "plt.scatter([0,1],[mean_fbs0,mean_fbs1])\n",
        "plt.xlabel('fbs')\n",
        "plt.ylabel('mean of cholesterol')\n",
        "plt.title('tasir fbs bar cholesterol')\n",
        "plt.show()\n",
        "\n",
        "#nemodar mileii:\n",
        "plt.bar([0,1],[mean_fbs0,mean_fbs1])\n",
        "plt.xlabel('fbs')\n",
        "plt.ylabel('mean of cholesterol')\n",
        "plt.title('tasir fbs bar cholesterol')\n",
        "plt.show()"
      ],
      "execution_count": null,
      "outputs": [
        {
          "output_type": "display_data",
          "data": {
            "image/png": "[encoded data removed]",
            "text/plain": [
              "<Figure size 432x288 with 1 Axes>"
            ]
          },
          "metadata": {
            "tags": [],
            "needs_background": "light"
          }
        },
        {
          "output_type": "display_data",
          "data": {
            "image/png": "[encoded data removed]",
            "text/plain": [
              "<Figure size 432x288 with 1 Axes>"
            ]
          },
          "metadata": {
            "tags": [],
            "needs_background": "light"
          }
        }
      ]
    },
    {
      "cell_type": "markdown",
      "metadata": {
        "id": "Dr8804jj_bHZ"
      },
      "source": [
        "**Answer: No**    \n",
        "**((بنابراین داشتن قند خون تاثیر مستقیمی بر میزان کلسترول دارد))**"
      ]
    },
    {
      "cell_type": "markdown",
      "metadata": {
        "id": "7_a774ojzrYN"
      },
      "source": [
        "# Question 2:"
      ]
    },
    {
      "cell_type": "code",
      "metadata": {
        "colab": {
          "base_uri": "https://localhost:8080/"
        },
        "id": "ha9B8OEMz1I3",
        "outputId": "a432fade-6771-4136-bbf0-9968853f329e"
      },
      "source": [
        "import pandas as pd\n",
        "\n",
        "df = pd.read_csv('new_heart_disease.csv')\n",
        "\n",
        "men_df = df.loc[df.gender == 1]\n",
        "print(men_df.describe())\n",
        "#as in natige migirim:\n",
        "min_thalach_in_men = 71.000000\n",
        "# charak1 = 25% , charak2 = 50% ,charak3 = 75%\n",
        "charak1_thalach_in_men = 132.000000\n",
        "charak2_thalach_in_men = 151.000000\n",
        "charak3_thalach_in_men = 168.000000\n",
        "max_thalach_in_men = 202.000000\n",
        "mean_thalach_in_men = 148.961353\n",
        "\n",
        "women_df = df.loc[df.gender == 0]\n",
        "print(women_df.describe())\n",
        "#as in natige migirim:\n",
        "min_thalach_in_women = 96.000000\n",
        "# charak1 = 25% , charak2 = 50% ,charak3 = 75%\n",
        "charak1_thalach_in_women = 141.250000\n",
        "charak2_thalach_in_women = 157.000000\n",
        "charak3_thalach_in_women = 165.000000\n",
        "max_thalach_in_women = 192.000000\n",
        "mean_thalach_in_women = 151.125000\n"
      ],
      "execution_count": null,
      "outputs": [
        {
          "output_type": "stream",
          "text": [
            "              age  gender          cp  ...         fbs     thalach      target\n",
            "count  207.000000   207.0  207.000000  ...  207.000000  207.000000  207.000000\n",
            "mean    53.758454     1.0    0.932367  ...    0.159420  148.961353    0.449275\n",
            "std      8.883803     0.0    1.059064  ...    0.366955   24.130882    0.498626\n",
            "min     29.000000     1.0    0.000000  ...    0.000000   71.000000    0.000000\n",
            "25%     47.000000     1.0    0.000000  ...    0.000000  132.000000    0.000000\n",
            "50%     54.000000     1.0    0.000000  ...    0.000000  151.000000    0.000000\n",
            "75%     59.500000     1.0    2.000000  ...    0.000000  168.000000    1.000000\n",
            "max     77.000000     1.0    3.000000  ...    1.000000  202.000000    1.000000\n",
            "\n",
            "[8 rows x 8 columns]\n",
            "             age  gender         cp  ...        fbs     thalach     target\n",
            "count  96.000000    96.0  96.000000  ...  96.000000   96.000000  96.000000\n",
            "mean   55.677083     0.0   1.041667  ...   0.125000  151.125000   0.750000\n",
            "std     9.409396     0.0   0.972427  ...   0.332455   20.047969   0.435286\n",
            "min    34.000000     0.0   0.000000  ...   0.000000   96.000000   0.000000\n",
            "25%    49.750000     0.0   0.000000  ...   0.000000  141.250000   0.750000\n",
            "50%    57.000000     0.0   1.000000  ...   0.000000  157.000000   1.000000\n",
            "75%    63.000000     0.0   2.000000  ...   0.000000  165.000000   1.000000\n",
            "max    76.000000     0.0   3.000000  ...   1.000000  192.000000   1.000000\n",
            "\n",
            "[8 rows x 8 columns]\n"
          ],
          "name": "stdout"
        }
      ]
    },
    {
      "cell_type": "markdown",
      "metadata": {
        "id": "PI2TtkcyNSqH"
      },
      "source": [
        "**Answer: No**   \n",
        "**((حداکثر ضربان قلب مردان و زنان تفاوت معناداری ندارد))**"
      ]
    },
    {
      "cell_type": "markdown",
      "metadata": {
        "id": "z5Y8NhbyxJuy"
      },
      "source": [
        "# Question 3:"
      ]
    },
    {
      "cell_type": "code",
      "metadata": {
        "id": "qnmG8WtDxH70"
      },
      "source": [
        "import pandas as pd\n",
        "\n",
        "df = pd.read_csv('new_heart_disease.csv')\n",
        "new_df = df.loc[:,['age', 'gender', 'cp', 'trestbps', 'chol', 'thalach', 'target']]\n",
        "\n",
        "new_df.to_csv('data_without_fbs.csv')"
      ],
      "execution_count": null,
      "outputs": []
    },
    {
      "cell_type": "markdown",
      "metadata": {
        "id": "Ngu7g4ePNBGi"
      },
      "source": [
        "منابع:                   \n",
        "1) towardsdatascience.com               \n",
        "2) blog.faradars.org"
      ]
    },
    {
      "cell_type": "markdown",
      "metadata": {
        "id": "vGXDlHEyNjhr"
      },
      "source": [
        "# Question 4:"
      ]
    },
    {
      "cell_type": "code",
      "metadata": {
        "id": "JI7vtWF3NQfK"
      },
      "source": [
        "import pandas as pd\n",
        "\n",
        "df = pd.read_csv('new_heart_disease.csv')\n",
        "\n",
        "rows = []\n",
        "for i in range(303):\n",
        "  if i<120 or i>130:\n",
        "    rows.append(i)\n",
        "new_df = df.loc[rows,['age', 'gender', 'cp', 'trestbps', 'chol', 'fbs', 'thalach', 'target']]\n",
        "\n",
        "new_df.to_csv('data_without_records_121_to_131.csv')"
      ],
      "execution_count": null,
      "outputs": []
    },
    {
      "cell_type": "markdown",
      "metadata": {
        "id": "16FQYCmPP5Zv"
      },
      "source": [
        "منابع:                   \n",
        "1) towardsdatascience.com               \n",
        "2) blog.faradars.org"
      ]
    },
    {
      "cell_type": "markdown",
      "metadata": {
        "id": "qT14WxGdP-sQ"
      },
      "source": [
        "# Question 5:"
      ]
    },
    {
      "cell_type": "code",
      "metadata": {
        "id": "60ZPI-6OQCUK"
      },
      "source": [
        "import pandas as pd\n",
        "\n",
        "df = pd.read_csv('new_heart_disease.csv')\n",
        "\n",
        "new_df = df.loc[:,['age', 'gender', 'cp', 'trestbps', 'chol', 'thalach', 'fbs', 'target']]\n",
        "\n",
        "new_df.to_csv('data_by_moving_fbs_with_thalach.csv')"
      ],
      "execution_count": null,
      "outputs": []
    },
    {
      "cell_type": "markdown",
      "metadata": {
        "id": "C8neSBAsR-Z4"
      },
      "source": [
        "منابع:                   \n",
        "1) towardsdatascience.com               \n",
        "2) blog.faradars.org"
      ]
    },
    {
      "cell_type": "markdown",
      "metadata": {
        "id": "Eu8YkaokSC9l"
      },
      "source": [
        "# Question 7:"
      ]
    },
    {
      "cell_type": "code",
      "metadata": {
        "colab": {
          "base_uri": "https://localhost:8080/"
        },
        "id": "0lOazBHgSHsp",
        "outputId": "016e0c27-9d49-48e9-d1ea-4bd5bb2af65e"
      },
      "source": [
        "import pandas as pd\n",
        "\n",
        "df = pd.read_csv('new_heart_disease.csv')\n",
        "\n",
        "fbs1_df = df.loc[df.fbs == 1]\n",
        "fbs1_men_df = fbs1_df.loc[fbs1_df.gender == 1]\n",
        "\n",
        "output_fbs1_men_df = fbs1_men_df.loc[:,['chol']]\n",
        "print(output_fbs1_men_df.describe())\n",
        "#as in natige migirim:  miyangin cholesterol ba fbs 1 dar gender 1 = 234.121212\n",
        "mean_chol_in_fbs1_men = 234.121212\n",
        "min_chol_in_fbs1_men = 126.000000\n",
        "charak1_chol_in_fbs1_men = 205.000000\n",
        "charak2_chol_in_fbs1_men = 234.000000\n",
        "charak3_chol_in_fbs1_men = 255.000000\n",
        "max_chol_in_fbs1_men = 330.000000\n",
        "\n",
        "output_df = df.loc[:,['chol']]\n",
        "print(output_df.describe())\n",
        "#as in natige migirim:  miyangin cholesterol dar general = 246.264026\n",
        "mean_chol_in_general = 246.264026\n",
        "min_chol_in_general = 126.000000\n",
        "charak1_chol_in_general = 211.000000\n",
        "charak2_chol_in_general = 240.000000\n",
        "charak3_chol_in_general = 274.500000\n",
        "max_chol_in_general = 564.000000\n",
        "\n",
        "\n",
        "#pasokh ba chrak bandi keshide shode"
      ],
      "execution_count": null,
      "outputs": [
        {
          "output_type": "stream",
          "text": [
            "             chol\n",
            "count   33.000000\n",
            "mean   234.121212\n",
            "std     39.750596\n",
            "min    126.000000\n",
            "25%    205.000000\n",
            "50%    234.000000\n",
            "75%    255.000000\n",
            "max    330.000000\n",
            "             chol\n",
            "count  303.000000\n",
            "mean   246.264026\n",
            "std     51.830751\n",
            "min    126.000000\n",
            "25%    211.000000\n",
            "50%    240.000000\n",
            "75%    274.500000\n",
            "max    564.000000\n"
          ],
          "name": "stdout"
        }
      ]
    },
    {
      "cell_type": "markdown",
      "metadata": {
        "id": "wKjEE2X8WWd4"
      },
      "source": [
        "Answer: Almost No        \n",
        "((میانگین چربی خون در بین مردانی که قند خون دارند با میانگین کل تفاوت معناداری ندارد))\n",
        "\n",
        "نکته: برای دیدن چارک بندی ستون کلسترول از فیلتر کردن استفاده شده"
      ]
    },
    {
      "cell_type": "markdown",
      "metadata": {
        "id": "f-TwxyDEYw3h"
      },
      "source": [
        "# Question 9:"
      ]
    },
    {
      "cell_type": "code",
      "metadata": {
        "colab": {
          "base_uri": "https://localhost:8080/",
          "height": 418
        },
        "id": "KiaIfTrJadA1",
        "outputId": "167de709-db86-41c7-9fed-3d782187f4f4"
      },
      "source": [
        "import pandas as pd\n",
        "\n",
        "from google.colab import drive\n",
        "drive.mount('/content/drive')\n",
        "\n",
        "df= pd.read_csv('drive/My Drive/new_heart_disease.csv')\n",
        "df"
      ],
      "execution_count": null,
      "outputs": [
        {
          "output_type": "stream",
          "text": [
            "Drive already mounted at /content/drive; to attempt to forcibly remount, call drive.mount(\"/content/drive\", force_remount=True).\n"
          ],
          "name": "stdout"
        },
        {
          "output_type": "execute_result",
          "data": {
            "text/html": [
              "<div>\n",
              "<style scoped>\n",
              "    .dataframe tbody tr th:only-of-type {\n",
              "        vertical-align: middle;\n",
              "    }\n",
              "\n",
              "    .dataframe tbody tr th {\n",
              "        vertical-align: top;\n",
              "    }\n",
              "\n",
              "    .dataframe thead th {\n",
              "        text-align: right;\n",
              "    }\n",
              "</style>\n",
              "<table border=\"1\" class=\"dataframe\">\n",
              "  <thead>\n",
              "    <tr style=\"text-align: right;\">\n",
              "      <th></th>\n",
              "      <th>age</th>\n",
              "      <th>gender</th>\n",
              "      <th>cp</th>\n",
              "      <th>trestbps</th>\n",
              "      <th>chol</th>\n",
              "      <th>fbs</th>\n",
              "      <th>thalach</th>\n",
              "      <th>target</th>\n",
              "    </tr>\n",
              "  </thead>\n",
              "  <tbody>\n",
              "    <tr>\n",
              "      <th>0</th>\n",
              "      <td>63</td>\n",
              "      <td>1</td>\n",
              "      <td>3</td>\n",
              "      <td>145</td>\n",
              "      <td>233</td>\n",
              "      <td>1</td>\n",
              "      <td>150</td>\n",
              "      <td>1</td>\n",
              "    </tr>\n",
              "    <tr>\n",
              "      <th>1</th>\n",
              "      <td>37</td>\n",
              "      <td>1</td>\n",
              "      <td>2</td>\n",
              "      <td>130</td>\n",
              "      <td>250</td>\n",
              "      <td>0</td>\n",
              "      <td>187</td>\n",
              "      <td>1</td>\n",
              "    </tr>\n",
              "    <tr>\n",
              "      <th>2</th>\n",
              "      <td>41</td>\n",
              "      <td>0</td>\n",
              "      <td>1</td>\n",
              "      <td>130</td>\n",
              "      <td>204</td>\n",
              "      <td>0</td>\n",
              "      <td>172</td>\n",
              "      <td>1</td>\n",
              "    </tr>\n",
              "    <tr>\n",
              "      <th>3</th>\n",
              "      <td>56</td>\n",
              "      <td>1</td>\n",
              "      <td>1</td>\n",
              "      <td>120</td>\n",
              "      <td>236</td>\n",
              "      <td>0</td>\n",
              "      <td>178</td>\n",
              "      <td>1</td>\n",
              "    </tr>\n",
              "    <tr>\n",
              "      <th>4</th>\n",
              "      <td>57</td>\n",
              "      <td>0</td>\n",
              "      <td>0</td>\n",
              "      <td>120</td>\n",
              "      <td>354</td>\n",
              "      <td>0</td>\n",
              "      <td>163</td>\n",
              "      <td>1</td>\n",
              "    </tr>\n",
              "    <tr>\n",
              "      <th>...</th>\n",
              "      <td>...</td>\n",
              "      <td>...</td>\n",
              "      <td>...</td>\n",
              "      <td>...</td>\n",
              "      <td>...</td>\n",
              "      <td>...</td>\n",
              "      <td>...</td>\n",
              "      <td>...</td>\n",
              "    </tr>\n",
              "    <tr>\n",
              "      <th>298</th>\n",
              "      <td>57</td>\n",
              "      <td>0</td>\n",
              "      <td>0</td>\n",
              "      <td>140</td>\n",
              "      <td>241</td>\n",
              "      <td>0</td>\n",
              "      <td>123</td>\n",
              "      <td>0</td>\n",
              "    </tr>\n",
              "    <tr>\n",
              "      <th>299</th>\n",
              "      <td>45</td>\n",
              "      <td>1</td>\n",
              "      <td>3</td>\n",
              "      <td>110</td>\n",
              "      <td>264</td>\n",
              "      <td>0</td>\n",
              "      <td>132</td>\n",
              "      <td>0</td>\n",
              "    </tr>\n",
              "    <tr>\n",
              "      <th>300</th>\n",
              "      <td>68</td>\n",
              "      <td>1</td>\n",
              "      <td>0</td>\n",
              "      <td>144</td>\n",
              "      <td>193</td>\n",
              "      <td>1</td>\n",
              "      <td>141</td>\n",
              "      <td>0</td>\n",
              "    </tr>\n",
              "    <tr>\n",
              "      <th>301</th>\n",
              "      <td>57</td>\n",
              "      <td>1</td>\n",
              "      <td>0</td>\n",
              "      <td>130</td>\n",
              "      <td>131</td>\n",
              "      <td>0</td>\n",
              "      <td>115</td>\n",
              "      <td>0</td>\n",
              "    </tr>\n",
              "    <tr>\n",
              "      <th>302</th>\n",
              "      <td>57</td>\n",
              "      <td>0</td>\n",
              "      <td>1</td>\n",
              "      <td>130</td>\n",
              "      <td>236</td>\n",
              "      <td>0</td>\n",
              "      <td>174</td>\n",
              "      <td>0</td>\n",
              "    </tr>\n",
              "  </tbody>\n",
              "</table>\n",
              "<p>303 rows × 8 columns</p>\n",
              "</div>"
            ],
            "text/plain": [
              "     age  gender  cp  trestbps  chol  fbs  thalach  target\n",
              "0     63       1   3       145   233    1      150       1\n",
              "1     37       1   2       130   250    0      187       1\n",
              "2     41       0   1       130   204    0      172       1\n",
              "3     56       1   1       120   236    0      178       1\n",
              "4     57       0   0       120   354    0      163       1\n",
              "..   ...     ...  ..       ...   ...  ...      ...     ...\n",
              "298   57       0   0       140   241    0      123       0\n",
              "299   45       1   3       110   264    0      132       0\n",
              "300   68       1   0       144   193    1      141       0\n",
              "301   57       1   0       130   131    0      115       0\n",
              "302   57       0   1       130   236    0      174       0\n",
              "\n",
              "[303 rows x 8 columns]"
            ]
          },
          "metadata": {
            "tags": []
          },
          "execution_count": 32
        }
      ]
    }
  ]
}